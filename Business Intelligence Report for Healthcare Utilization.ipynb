{
 "cells": [
  {
   "cell_type": "code",
   "execution_count": null,
   "id": "b6c110be-bf9b-4b89-aac7-c3c440be4d5f",
   "metadata": {},
   "outputs": [],
   "source": [
    "# Downloading dependencies \n",
    "!pip install pandas seaborn matplotlib"
   ]
  },
  {
   "cell_type": "code",
   "execution_count": 2,
   "id": "f20fc54d-e7be-4108-9d20-22c39b92d34b",
   "metadata": {},
   "outputs": [],
   "source": [
    "# Importing dependencies\n",
    "import pandas as pd \n",
    "import seaborn as sns \n",
    "import matplotlib.pyplot as plt "
   ]
  },
  {
   "cell_type": "code",
   "execution_count": 3,
   "id": "5bc7a875-d1be-4f12-a7c1-7ddff72c8379",
   "metadata": {},
   "outputs": [],
   "source": [
    "# Reading datasets for analysis\n",
    "df_Patient = pd.read_csv('Patient_Visits.csv')\n",
    "df_diagnoses = pd.read_csv('Diagnoses.csv')\n",
    "df_resource = pd.read_csv('Resource_Usage.csv')"
   ]
  },
  {
   "cell_type": "code",
   "execution_count": null,
   "id": "25f19904-dbaf-490a-95b4-675ed63a9fe2",
   "metadata": {},
   "outputs": [],
   "source": [
    "# Checking the overview of patient visits dataset\n",
    "df_Patient.head()"
   ]
  },
  {
   "cell_type": "code",
   "execution_count": null,
   "id": "be6f7743-a995-42e7-997b-b80f4d74145b",
   "metadata": {},
   "outputs": [],
   "source": [
    "# Checking the dtypes of columns\n",
    "df_Patient.dtypes"
   ]
  },
  {
   "cell_type": "code",
   "execution_count": 6,
   "id": "3fe65a1e-de11-43ef-8ea6-e873d26d6833",
   "metadata": {},
   "outputs": [],
   "source": [
    "# Converitng Date column dtype from object to datetime\n",
    "df_Patient['Date'] = pd.to_datetime(df_Patient['Date'],errors='coerce')"
   ]
  },
  {
   "cell_type": "code",
   "execution_count": null,
   "id": "15ea6374-a746-40a3-b294-0b62e38eb7e8",
   "metadata": {},
   "outputs": [],
   "source": [
    "#Checking is there any missing or nan value\n",
    "df_Patient.isna().sum()"
   ]
  },
  {
   "cell_type": "code",
   "execution_count": null,
   "id": "78dde9bb-6bf9-4848-8c7e-6827ed63efa9",
   "metadata": {},
   "outputs": [],
   "source": [
    "# Filling the missing value with median\n",
    "df_Patient['LengthOfStay'].fillna(df_Patient['LengthOfStay'].median(),inplace=True)"
   ]
  },
  {
   "cell_type": "code",
   "execution_count": 16,
   "id": "d47721c6-1f24-4083-8dd9-14c0fb314625",
   "metadata": {},
   "outputs": [],
   "source": [
    "# creating function for Detecting Outliers\n",
    "def detect_outliers(series):\n",
    "    Q1 = series.quantile(0.25)\n",
    "    Q3 = series.quantile(0.75) \n",
    "    IQR = Q3 - Q1 \n",
    "    lower = Q1 -1.5 * IQR \n",
    "    higher = Q3 + 1.5 * IQR \n",
    "    return series[(series>higher) | (series<lower)]"
   ]
  },
  {
   "cell_type": "code",
   "execution_count": 17,
   "id": "474e6851-d3db-454b-ae56-502bd764ad4c",
   "metadata": {},
   "outputs": [],
   "source": [
    "# detected outliers assigned to variable\n",
    "Outlier_Detected = detect_outliers(df_Patient['Cost'])"
   ]
  },
  {
   "cell_type": "code",
   "execution_count": null,
   "id": "9bba232c-3f4b-48af-89b2-8bc6918d5feb",
   "metadata": {},
   "outputs": [],
   "source": [
    "# Checking how many outlier are there\n",
    "print({'Outliers in Cost':len(Outlier_Detected)})"
   ]
  },
  {
   "cell_type": "code",
   "execution_count": 21,
   "id": "ea9b58bd-1c4b-44f3-94fe-950e23b21996",
   "metadata": {},
   "outputs": [],
   "source": [
    "# Function to check the index of outliers\n",
    "def outliers_index(series):\n",
    "    Q1 = series.quantile(0.25)\n",
    "    Q3 = series.quantile(0.75) \n",
    "    IQR = Q3 - Q1 \n",
    "    lower = Q1 -1.5 * IQR \n",
    "    higher = Q3 + 1.5 * IQR \n",
    "    return series[(series>higher) | (series<lower)].index"
   ]
  },
  {
   "cell_type": "code",
   "execution_count": 22,
   "id": "6292672b-00f9-4d2d-9a57-05488c2af2e6",
   "metadata": {},
   "outputs": [],
   "source": [
    "# Assigning index of outliers to a variable\n",
    "Outlier_removed = outliers_index(df_Patient['Cost']) "
   ]
  },
  {
   "cell_type": "code",
   "execution_count": 23,
   "id": "55a6cf70-ed5e-42a4-a120-19d8ead6f329",
   "metadata": {},
   "outputs": [],
   "source": [
    "# Removing outliers and assign them to a new dataset which is cleaned\n",
    "cleaned_patient_visits = df_Patient.drop(Outlier_removed)"
   ]
  },
  {
   "cell_type": "code",
   "execution_count": null,
   "id": "a953da47-dfbe-4814-b118-826bf1dd3e3c",
   "metadata": {},
   "outputs": [],
   "source": [
    "# Checking outliers are removed and there is no missing value\n",
    "cleaned_patient_visits.head()"
   ]
  },
  {
   "cell_type": "code",
   "execution_count": null,
   "id": "a9aca527-f6d9-4b44-9828-30fdc571a588",
   "metadata": {},
   "outputs": [],
   "source": [
    "# Checking is there any missing value in cleaned dataset\n",
    "cleaned_patient_visits.isna().sum()"
   ]
  },
  {
   "cell_type": "code",
   "execution_count": null,
   "id": "41228be2-4376-40da-87cb-ac38872acbd6",
   "metadata": {},
   "outputs": [],
   "source": [
    "# Checking the cleaned dataset dtypes\n",
    "cleaned_patient_visits.dtypes"
   ]
  },
  {
   "cell_type": "code",
   "execution_count": 3,
   "id": "828e827a-a9bf-4507-bfd7-82ba47e21030",
   "metadata": {},
   "outputs": [],
   "source": [
    "# reading the cleaned csv file for further visualization\n",
    "df_cleaned_patient = pd.read_csv('cleaned_patient_visits.csv')"
   ]
  },
  {
   "cell_type": "code",
   "execution_count": null,
   "id": "a09e22a9-e3a8-4a1b-af60-a87ab9552b70",
   "metadata": {},
   "outputs": [],
   "source": [
    "# Checking the diagnosis dataset overview\n",
    "df_diagnoses.head()"
   ]
  },
  {
   "cell_type": "code",
   "execution_count": null,
   "id": "1ad34dc7-8204-4682-9ccf-838fcf7ba66f",
   "metadata": {},
   "outputs": [],
   "source": [
    "# checking the dtypes\n",
    "df_diagnoses.dtypes"
   ]
  },
  {
   "cell_type": "code",
   "execution_count": null,
   "id": "d9c97103-8156-4825-9a6d-7feb4375f53f",
   "metadata": {},
   "outputs": [],
   "source": [
    "#  Checking is there any missing value \n",
    "df_diagnoses.isna().sum()"
   ]
  },
  {
   "cell_type": "code",
   "execution_count": null,
   "id": "4493fa78-b671-423f-97ef-3ec1db0161ec",
   "metadata": {},
   "outputs": [],
   "source": [
    "# Filling the missing value with mode because it's categorical data\n",
    "df_diagnoses['Severity'].fillna(df_diagnoses['Severity'].mode()[0],inplace=True)"
   ]
  },
  {
   "cell_type": "code",
   "execution_count": null,
   "id": "d591b1e3-4e23-4cec-857f-3218564d14bd",
   "metadata": {},
   "outputs": [],
   "source": [
    "# Applying numerical value to saverity column because one visitid have multiple diagnoses code so we see in each visitid which have highest saverity\n",
    "import pandas as pd  \n",
    "\n",
    "severity_mapping = {'Low': 1 ,'Medium' : 2 , 'High' : 3}\n",
    "df_diagnoses['Severity_Int'] = df_diagnoses['Severity'].map(severity_mapping) \n",
    "\n",
    "df_diagnoses['max_severity'] = df_diagnoses.groupby('VisitID')['Severity_Int'].transform('max')\n",
    "\n",
    "df_diagnoses = df_diagnoses[['VisitID', 'DiagnosisCode', 'Severity','Severity_Int', 'max_severity']]\n",
    "\n",
    "print(df_diagnoses)"
   ]
  },
  {
   "cell_type": "code",
   "execution_count": null,
   "id": "58d2c8ec-5175-435f-8955-5338a52b1131",
   "metadata": {},
   "outputs": [],
   "source": [
    "# Checking is numerical value applied \n",
    "df_diagnoses.head()"
   ]
  },
  {
   "cell_type": "code",
   "execution_count": null,
   "id": "cf534567-885b-486e-a2a5-94e5e7c6fa7f",
   "metadata": {},
   "outputs": [],
   "source": [
    "# Checking the overview of resource dataset\n",
    "df_resource.head()"
   ]
  },
  {
   "cell_type": "code",
   "execution_count": 62,
   "id": "87eaca61-7c7a-4ea9-9e11-a7f57571240f",
   "metadata": {},
   "outputs": [],
   "source": [
    "# converting the uncleaned diagnosed dataset to cleaned dataset\n",
    "df_diagnoses.to_csv('cleaned_diagnosis.csv',index=True)"
   ]
  },
  {
   "cell_type": "code",
   "execution_count": 4,
   "id": "0c26dcb3-e7d1-451f-99ab-1a1102e54fb0",
   "metadata": {},
   "outputs": [],
   "source": [
    "# reading the cleaned datset for further analysis \n",
    "cleaned_diagnosis = pd.read_csv('cleaned_diagnosis.csv')"
   ]
  },
  {
   "cell_type": "code",
   "execution_count": 6,
   "id": "43cad5c6-79ba-479d-9468-4580797d0056",
   "metadata": {},
   "outputs": [],
   "source": [
    "# importing sqlite3 and making connection for database\n",
    "import sqlite3, csv \n",
    "con = sqlite3.connect('Hospital.db')\n",
    "curr = con.cursor()"
   ]
  },
  {
   "cell_type": "code",
   "execution_count": null,
   "id": "adf7e048-5260-4659-a1e6-81de83eee910",
   "metadata": {},
   "outputs": [],
   "source": [
    "# Install pretty table library for to show tables when executing sql query\n",
    "!pip install ipython-sql pretty\n",
    "import prettytable\n",
    "prettytable.DEFAULT = 'DEFAULT'"
   ]
  },
  {
   "cell_type": "code",
   "execution_count": 8,
   "id": "a2a410ba-5849-4e25-bb00-d170909f99bf",
   "metadata": {},
   "outputs": [],
   "source": [
    "#  loading the database\n",
    "%load_ext sql"
   ]
  },
  {
   "cell_type": "code",
   "execution_count": 9,
   "id": "95bc5364-eb64-4506-91d8-1ff9c3c24692",
   "metadata": {},
   "outputs": [],
   "source": [
    "# Creating Connection to Database\n",
    "%sql sqlite:///Hospital.db"
   ]
  },
  {
   "cell_type": "code",
   "execution_count": null,
   "id": "b92cfe92-448a-4857-bcd4-9ba1555b69db",
   "metadata": {},
   "outputs": [],
   "source": [
    "df_cleaned_patient.to_sql('patient_data',con,if_exists='replace',index=False)"
   ]
  },
  {
   "cell_type": "code",
   "execution_count": null,
   "id": "e95c501e-14ef-4fb2-8ac1-94b372c50cf9",
   "metadata": {},
   "outputs": [],
   "source": [
    "cleaned_diagnosis.to_sql('diagnosis_data',con,if_exists='replace',index=False)"
   ]
  },
  {
   "cell_type": "code",
   "execution_count": null,
   "id": "445013ac-e880-45a5-896c-a44f0ed07553",
   "metadata": {},
   "outputs": [],
   "source": [
    "df_resource.to_sql('resource_data',con,if_exists='replace',index=False)"
   ]
  },
  {
   "cell_type": "code",
   "execution_count": null,
   "id": "85d15757-cd9a-492a-be7b-d80d980d8c9e",
   "metadata": {},
   "outputs": [],
   "source": [
    "# Identifying the Average cost per department using sql\n",
    "avg_cost_per_dept = %sql select *, round(avg(Cost),2) as avg_cost_per_dept from patient_data group by Department"
   ]
  },
  {
   "cell_type": "code",
   "execution_count": null,
   "id": "6e77a72c-5bff-4b94-80c7-5a9d69807976",
   "metadata": {},
   "outputs": [],
   "source": [
    "# Checking the result\n",
    "avg_cost_per_dept"
   ]
  },
  {
   "cell_type": "code",
   "execution_count": null,
   "id": "054660f0-f0c7-4d05-a7c1-4f903e8bc7dd",
   "metadata": {},
   "outputs": [],
   "source": [
    "# Barchart visualization for Average cost per department\n",
    "\n",
    "plt.figure(figsize=(10,6))\n",
    "sns.barplot(data=avg_cost_per_dept.DataFrame(),x='Department',y='avg_cost_per_dept',palette=\"viridis\")\n",
    "\n",
    "for bar in plt.gca().patches:\n",
    "    plt.annotate(format(bar.get_height()), \n",
    "                (bar.get_x() + bar.get_width()/2, bar.get_height() ),\n",
    "                 ha= 'center',va= 'bottom'\n",
    "                )\n",
    "\n",
    "plt.title('Average Cost Per Department')\n",
    "plt.xlabel('Departmet')\n",
    "plt.ylabel('Cost')\n",
    "plt.tight_layout()"
   ]
  },
  {
   "cell_type": "code",
   "execution_count": null,
   "id": "b8ad5e88-a868-448f-8580-7a71cc2def64",
   "metadata": {},
   "outputs": [],
   "source": [
    "# Finding the 3 most unit-usage per resourse-type \n",
    "%%sql  resource_usage_per_resourcetype  <<\n",
    "   -- Step 1: Merge the tables (equivalent to pd.merge)\n",
    "WITH merged AS (\n",
    "    SELECT \n",
    "        p.VisitID,\n",
    "        p.PatientID,\n",
    "        strftime('%Y-%m', p.Date) AS Month,\n",
    "        p.Department,\n",
    "        p.LengthOfStay,\n",
    "        p.Cost,\n",
    "        r.ResourceType,\n",
    "        r.UnitsUsed\n",
    "    FROM patient_data p\n",
    "    JOIN resource_data r ON p.VisitID = r.VisitID\n",
    "),\n",
    "-- Step 2: Aggregate by Month and ResourceType\n",
    "monthly_usage AS (\n",
    "    SELECT \n",
    "        Month,\n",
    "        ResourceType,\n",
    "        SUM(UnitsUsed) AS Total_Units_Used\n",
    "    FROM merged\n",
    "    GROUP BY Month, ResourceType\n",
    "),\n",
    "-- Step 3: Identify top 3 most-used resource types overall\n",
    "top_resources AS (\n",
    "    SELECT ResourceType\n",
    "    FROM monthly_usage\n",
    "    GROUP BY ResourceType\n",
    "    HAVING SUM(Total_Units_Used) >= (\n",
    "        SELECT SUM(Total_Units_Used)\n",
    "        FROM monthly_usage m2\n",
    "        GROUP BY m2.ResourceType\n",
    "        ORDER BY SUM(m2.Total_Units_Used) DESC\n",
    "        LIMIT 1 OFFSET 2\n",
    "    )\n",
    "    ORDER BY SUM(Total_Units_Used) DESC\n",
    "    LIMIT 3\n",
    ")\n",
    "-- Step 4: Filter only top 3 for further use\n",
    "SELECT \n",
    "    m.Month,\n",
    "    m.ResourceType,\n",
    "    m.Total_Units_Used\n",
    "FROM monthly_usage m\n",
    "JOIN top_resources tr ON m.ResourceType = tr.ResourceType\n",
    "ORDER BY m.Month, m.Total_Units_Used DESC;"
   ]
  },
  {
   "cell_type": "code",
   "execution_count": 116,
   "id": "230800a5-652c-4e03-a20c-8d11afeb8865",
   "metadata": {},
   "outputs": [],
   "source": [
    "# Converting the variable to dataframe for visualization\n",
    "df_resource_usage_per_resourcetype = resource_usage_per_resourcetype.DataFrame()"
   ]
  },
  {
   "cell_type": "code",
   "execution_count": null,
   "id": "cec6c7cb-75ee-41ff-b894-7525cc7c66d2",
   "metadata": {},
   "outputs": [],
   "source": [
    "# Checking the overview of the 3 most unit-usage per resourse-type \n",
    "df_resource_usage_per_resourcetype.head()"
   ]
  },
  {
   "cell_type": "code",
   "execution_count": null,
   "id": "81d35371-db9e-4db4-9428-da60ba44274f",
   "metadata": {},
   "outputs": [],
   "source": [
    "# Lineplot for the 3 most unit-usage per resourse-type using python\n",
    "import pandas as pd\n",
    "import matplotlib.pyplot as plt\n",
    "import seaborn as sns\n",
    "\n",
    "# Merge for time-based aggregation\n",
    "merged = pd.merge(df_cleaned_patient, df_resource, on='VisitID')\n",
    "# Optional: Set to monthly if needed\n",
    "merged['Month'] = merged['Date'].dt.to_period('M').astype(str)\n",
    "# Aggregate by Month and ResourceType\n",
    "monthly_usage = merged.groupby(['Month', 'ResourceType'])['UnitsUsed'].sum().reset_index()\n",
    "# Identify top 3 most-used resource types overall\n",
    "top_resources = (\n",
    "    monthly_usage.groupby('ResourceType')['UnitsUsed'].sum()\n",
    "    .sort_values(ascending=False).head(3).index\n",
    ")\n",
    "# Filter only top 3 for plotting\n",
    "top_usage = monthly_usage[monthly_usage['ResourceType'].isin(top_resources)]\n",
    "# Plot\n",
    "plt.figure(figsize=(12, 6))\n",
    "sns.lineplot(data=top_usage, x='Month', y='UnitsUsed', hue='ResourceType', marker='o')\n",
    "plt.xticks(rotation=45)\n",
    "plt.title('Monthly Usage Trend of Top 3 Resources')\n",
    "plt.tight_layout()\n",
    "plt.show()"
   ]
  },
  {
   "cell_type": "code",
   "execution_count": null,
   "id": "e596bf95-9deb-4195-b7ac-8d963fc5db5b",
   "metadata": {},
   "outputs": [],
   "source": [
    "# Merge all 3 datasets \n",
    "merged_all = df_cleaned_patient.merge(cleaned_diagnosis, on='VisitID').merge(df_resource, on='VisitID')\n",
    "# Aggregate: UnitsUsed by DiagnosisCode and ResourceType\n",
    "pivot_df = (\n",
    "    merged_all.groupby(['DiagnosisCode', 'ResourceType'])['UnitsUsed']\n",
    "    .sum().reset_index()\n",
    "    .pivot(index='DiagnosisCode', columns='ResourceType', values='UnitsUsed')\n",
    "    .fillna(0)\n",
    ")\n",
    "# Optional: Limit to most frequent 20 diagnosis codes\n",
    "top_20_diag = merged_all['DiagnosisCode'].value_counts().head(20).index\n",
    "pivot_df = pivot_df.loc[pivot_df.index.isin(top_20_diag)]\n",
    "# Plot heatmap\n",
    "plt.figure(figsize=(12, 8))\n",
    "sns.heatmap(pivot_df, annot=True, fmt=\".0f\", cmap=\"YlGnBu\", linewidths=.5)\n",
    "plt.title(\"Resource Usage by Diagnosis Code\")\n",
    "plt.xlabel(\"Resource Type\")\n",
    "plt.ylabel(\"Diagnosis Code\")\n",
    "plt.tight_layout()\n",
    "plt.show()"
   ]
  },
  {
   "cell_type": "code",
   "execution_count": null,
   "id": "be3ab30a-ef87-4c0e-8249-97268c217dc3",
   "metadata": {},
   "outputs": [],
   "source": [
    "# Visualization for Cost Distribution by Department\n",
    "\n",
    "import pandas as pd\n",
    "import seaborn as sns\n",
    "import matplotlib.pyplot as plt\n",
    "\n",
    "\n",
    "\n",
    "# Remove extreme outliers (optional but recommended for clarity)\n",
    "df_cleaned_patient = df_cleaned_patient[df_cleaned_patient['Cost'] < df_cleaned_patient['Cost'].quantile(0.99)]\n",
    "\n",
    "# Plot boxplot\n",
    "plt.figure(figsize=(12, 6))\n",
    "sns.boxplot(data=df_cleaned_patient, x='Department', y='Cost', palette='Set2')\n",
    "plt.title(\"Cost Distribution by Department\")\n",
    "plt.xticks(rotation=45)\n",
    "plt.tight_layout()\n",
    "plt.show()\n"
   ]
  }
 ],
 "metadata": {
  "kernelspec": {
   "display_name": "Python 3 (ipykernel)",
   "language": "python",
   "name": "python3"
  },
  "language_info": {
   "codemirror_mode": {
    "name": "ipython",
    "version": 3
   },
   "file_extension": ".py",
   "mimetype": "text/x-python",
   "name": "python",
   "nbconvert_exporter": "python",
   "pygments_lexer": "ipython3",
   "version": "3.12.8"
  }
 },
 "nbformat": 4,
 "nbformat_minor": 5
}
